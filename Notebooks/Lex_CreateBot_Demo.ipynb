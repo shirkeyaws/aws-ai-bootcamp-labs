{
 "cells": [
  {
   "cell_type": "markdown",
   "metadata": {},
   "source": [
    "# Amazon Lex Create CoffeeBot"
   ]
  },
  {
   "cell_type": "markdown",
   "metadata": {},
   "source": [
    "***\n",
    "Copyright [2017]-[2017] Amazon.com, Inc. or its affiliates. All Rights Reserved.\n",
    "\n",
    "Licensed under the Apache License, Version 2.0 (the \"License\"). You may not use this file except in compliance with the License. A copy of the License is located at\n",
    "\n",
    "http://aws.amazon.com/apache2.0/\n",
    "\n",
    "or in the \"license\" file accompanying this file. This file is distributed on an \"AS IS\" BASIS, WITHOUT WARRANTIES OR CONDITIONS OF ANY KIND, either express or implied. See the License for the specific language governing permissions and limitations under the License.\n",
    "***\n",
    "\n",
    "### Prerequisites:\n",
    "\n",
    "#### Identity and Acces Management\n",
    "\n",
    "The user or role that executes the commands must have permissions in AWS Identity and Access Management (IAM) to perform those actions. AWS provides a set of managed policies that help you get started quickly. For our example, you should apply the following managed policy to your user or role:\n",
    "\n",
    "    AmazonLexFullAccess\n",
    "\n",
    "Be aware that we recommend you follow AWS IAM best practices for production implementations, which is out of scope for this workshop.\n",
    "\n",
    "#### Coffee Bot\n",
    "\n",
    "Use the code examples provided in this notebook to create the fictional Coffee Bot as documented in [this Github repository](https://github.com/awslabs/amz-ai-building-better-bots/blob/master/README.md).\n"
   ]
  },
  {
   "cell_type": "code",
   "execution_count": 13,
   "metadata": {
    "collapsed": true
   },
   "outputs": [],
   "source": [
    "import boto3\n",
    "import IPython\n",
    "import base64\n",
    "import time\n",
    "from pprint import pprint\n",
    "\n",
    "aws_region = 'us-east-1'\n",
    "\n",
    "bot = boto3.client('lex-models', region_name=aws_region)\n",
    "OUTPUT_BLACKLIST = (\"ResponseMetadata\")"
   ]
  },
  {
   "cell_type": "code",
   "execution_count": 14,
   "metadata": {
    "collapsed": true
   },
   "outputs": [],
   "source": [
    "slot_types = {\n",
    "        'cafeBeverageType':{'values': {'mocha','latte machiato','cappucino','hot chocolate','frappucino'},\n",
    "            'resolution': 'TOP_RESOLUTION'},\n",
    "        'cafeBeverageSize': {'values': {'small','medium','large'},\n",
    "            'resolution': 'TOP_RESOLUTION'},\n",
    "        'cafeBeverageStrength':{'values': {'single','double','triple','quadruple'},\n",
    "            'resolution': 'TOP_RESOLUTION'},\n",
    "        'cafeCreamerType': {'values': {'skim','half and half','almond','whole'},\n",
    "            'resolution': 'TOP_RESOLUTION'}}\n",
    "\n",
    "intent_name = 'cafeOrderBeverage'\n",
    "bot_name = 'CoffeeBot'"
   ]
  },
  {
   "cell_type": "markdown",
   "metadata": {},
   "source": [
    "### create custom slot types"
   ]
  },
  {
   "cell_type": "code",
   "execution_count": 15,
   "metadata": {},
   "outputs": [
    {
     "name": "stdout",
     "output_type": "stream",
     "text": [
      "cafeBeverageType slot type created, checksum: d5ff6db5-71a4-4caf-8637-2076beb45ef3\n",
      "cafeBeverageSize slot type created, checksum: be19fd09-c0c3-4ec9-b172-aea31facd687\n",
      "cafeBeverageStrength slot type created, checksum: 65d86f75-b5a8-4a1b-ad3f-dea1ef113b38\n",
      "cafeCreamerType slot type created, checksum: cabb3f76-28f2-47df-a96a-6f9798e36f19\n"
     ]
    }
   ],
   "source": [
    "for type_name in slot_types:\n",
    "    all_types = bot.get_slot_types(\n",
    "    nameContains=type_name\n",
    "    )\n",
    "    # only proceed if slot type doesn't exist yet    \n",
    "    if len(all_types['slotTypes'])== 0:\n",
    "\n",
    "        enumerations = []\n",
    "        values = slot_types[type_name]['values']\n",
    "        for val in values:\n",
    "            enumerations.append({'value': val})\n",
    "\n",
    "        response = bot.put_slot_type(\n",
    "        name=type_name,\n",
    "        enumerationValues=enumerations,\n",
    "        valueSelectionStrategy=slot_types[type_name]['resolution']\n",
    "        )\n",
    "        if response['ResponseMetadata']['HTTPStatusCode'] ==200:\n",
    "            print (\"%s slot type created, checksum: %s\" %(type_name,response['checksum']))\n",
    "        else:\n",
    "            pprint (response)\n",
    "    else:\n",
    "        print (\"%s already exists, skipping slot type\" %type_name)"
   ]
  },
  {
   "cell_type": "markdown",
   "metadata": {},
   "source": [
    "### create order beverage intent"
   ]
  },
  {
   "cell_type": "code",
   "execution_count": 16,
   "metadata": {},
   "outputs": [
    {
     "name": "stdout",
     "output_type": "stream",
     "text": [
      "Intent created, checksum: d789da12-d0fd-4e27-a795-f2e1a35e50bb\n"
     ]
    }
   ],
   "source": [
    "response = bot.put_intent(\n",
    "    name=intent_name,\n",
    "    description='Handles coffee order requests',\n",
    "    slots=[\n",
    "        {\n",
    "            'name': 'BeverageType',\n",
    "            'slotConstraint': 'Required',\n",
    "            'slotType': 'cafeBeverageType',\n",
    "            'slotTypeVersion': '$LATEST',\n",
    "            'valueElicitationPrompt': {\n",
    "                'messages': [\n",
    "                    {\n",
    "                        'contentType': 'PlainText',\n",
    "                        'content': 'What type of coffee would you like'\n",
    "                    },\n",
    "                    {\n",
    "                        'contentType': 'PlainText',\n",
    "                        'content': 'What type of coffee do you fancy?'\n",
    "                    },\n",
    "                ],\n",
    "                'maxAttempts': 3\n",
    "            },\n",
    "            'priority': 1,\n",
    "            'sampleUtterances': [\n",
    "                'I would like to have a {BeverageType} please.','A {BeverageType} please.'\n",
    "            ]\n",
    "        },\n",
    "        {\n",
    "            'name': 'BeverageSize',\n",
    "            'slotConstraint': 'Required',\n",
    "            'slotType': 'cafeBeverageSize',\n",
    "            'slotTypeVersion': '$LATEST',\n",
    "            'valueElicitationPrompt': {\n",
    "                'messages': [\n",
    "                    {\n",
    "                        'contentType': 'PlainText',\n",
    "                        'content': 'What size would you like, small, medium or large?'\n",
    "                    }\n",
    "                ],\n",
    "                'maxAttempts': 3\n",
    "            },\n",
    "            'priority': 2,\n",
    "            'sampleUtterances': [\n",
    "                'I have a {BeverageSize} one please.','{BeverageSize} please.'\n",
    "            ]\n",
    "        },\n",
    "        {\n",
    "            'name': 'BeverageStrength',\n",
    "            'slotConstraint': 'Optional',\n",
    "            'slotType': 'cafeBeverageStrength',\n",
    "            'slotTypeVersion': '$LATEST',\n",
    "            'valueElicitationPrompt': {\n",
    "                'messages': [\n",
    "                    {\n",
    "                        'contentType': 'PlainText',\n",
    "                        'content': 'How many shots do you want?'\n",
    "                    }\n",
    "                ],\n",
    "                'maxAttempts': 3\n",
    "            },\n",
    "            'priority': 3,\n",
    "            'sampleUtterances': [\n",
    "                '{BeverageStrength} shot please.'\n",
    "            ]\n",
    "        },\n",
    "        {\n",
    "            'name': 'Creamer',\n",
    "            'slotConstraint': 'Optional',\n",
    "            'slotType': 'cafeCreamerType',\n",
    "            'slotTypeVersion': '$LATEST',\n",
    "            'valueElicitationPrompt': {\n",
    "                'messages': [\n",
    "                    {\n",
    "                        'contentType': 'PlainText',\n",
    "                        'content': 'What milk do you like?'\n",
    "                    }\n",
    "                ],\n",
    "                'maxAttempts': 3\n",
    "            },\n",
    "            'priority': 4\n",
    "        },\n",
    "    ],\n",
    "    sampleUtterances=[\n",
    "        'I would like to order a coffee',\n",
    "        'I would like to order a {BeverageType}',\n",
    "        'Can I order a {BeverageType} please',\n",
    "        'Can I get a {BeverageSize} {Creamer} {BeverageStrength} {BeverageType}',\n",
    "        'Can I get a {BeverageType}',\n",
    "        'I would like a {BeverageSize} {BeverageType}'\n",
    "    ],\n",
    "    followUpPrompt={\n",
    "        'prompt': {\n",
    "            'messages': [\n",
    "                {\n",
    "                    'contentType': 'PlainText',\n",
    "                    'content': 'Sure. Is there anything else I can do for you?'\n",
    "                }\n",
    "            ],\n",
    "            'maxAttempts': 2\n",
    "        },\n",
    "        'rejectionStatement': {\n",
    "            'messages': [\n",
    "                {\n",
    "                    'contentType': 'PlainText',\n",
    "                    'content': 'Your {BeverageSize} {BeverageType} will be ready for pick-up soon.'\n",
    "                },\n",
    "                {\n",
    "                    'contentType': 'PlainText',\n",
    "                    'content': 'We will have your {BeverageSize} {BeverageType} ready for pick-up soon.'\n",
    "                },\n",
    "            ]\n",
    "        }\n",
    "    },\n",
    "    fulfillmentActivity={\n",
    "        'type': 'ReturnIntent'\n",
    "    }\n",
    ")\n",
    "\n",
    "if response['ResponseMetadata']['HTTPStatusCode'] ==200:\n",
    "    print ('Intent created, checksum: %s' %response['checksum'])\n",
    "else:\n",
    "    pprint(response)"
   ]
  },
  {
   "cell_type": "markdown",
   "metadata": {},
   "source": [
    "### create coffee bot"
   ]
  },
  {
   "cell_type": "code",
   "execution_count": 17,
   "metadata": {},
   "outputs": [
    {
     "name": "stdout",
     "output_type": "stream",
     "text": [
      "Bot created, checksum: db89ede4-dee5-44bb-8e4d-2c42aa9db231\n",
      "Console URL: https://us-east-1.console.aws.amazon.com/lex/home?region=eu-west-1#bot-editor:bot=CoffeeBot\n"
     ]
    }
   ],
   "source": [
    "response = bot.put_bot(\n",
    "    name=bot_name,\n",
    "    description='Coffee order bot for Amazon Lex demo',\n",
    "    intents=[\n",
    "        {\n",
    "            'intentName': intent_name,\n",
    "            'intentVersion': '$LATEST'\n",
    "        },\n",
    "    ],\n",
    "    clarificationPrompt={\n",
    "        'messages': [\n",
    "            {\n",
    "                'contentType': 'PlainText',\n",
    "                'content': \"Sorry, can you please repeat that?\"\n",
    "            },\n",
    "            {\n",
    "                'contentType': 'PlainText',\n",
    "                'content': \"Sorry, but I didn't understand that. Could you try again, please?\"\n",
    "            },\n",
    "        ],\n",
    "        'maxAttempts': 2\n",
    "    },\n",
    "    abortStatement={\n",
    "        'messages': [\n",
    "            {\n",
    "                'contentType': 'PlainText',\n",
    "                'content': 'Sorry, I could not understand. Goodbye.'\n",
    "            },\n",
    "        ]\n",
    "    },\n",
    "    idleSessionTTLInSeconds=300,\n",
    "    voiceId='Salli',\n",
    "    processBehavior='BUILD',\n",
    "    locale='en-US',\n",
    "    childDirected=False\n",
    ")\n",
    "\n",
    "if response['ResponseMetadata']['HTTPStatusCode'] ==200:\n",
    "    print ('Bot created, checksum: %s' %response['checksum'])\n",
    "    \n",
    "    print ('Console URL: https://us-east-1.console.aws.amazon.com/lex/home?region=eu-west-1#bot-editor:bot=%s' %bot_name)\n",
    "else:\n",
    "    pprint (response)"
   ]
  },
  {
   "cell_type": "markdown",
   "metadata": {},
   "source": [
    "### open coffee bot in the AWS console\n",
    "\n",
    "Open [Amazon Lex console](https://eu-west-1.console.aws.amazon.com/lex/home?region=eu-west-1#bots:) and wait for the build to complete before testing. "
   ]
  },
  {
   "cell_type": "markdown",
   "metadata": {},
   "source": [
    "### backup code for debugging and clean-up"
   ]
  },
  {
   "cell_type": "code",
   "execution_count": 18,
   "metadata": {},
   "outputs": [
    {
     "name": "stdout",
     "output_type": "stream",
     "text": [
      "'Intent cheksum: d789da12-d0fd-4e27-a795-f2e1a35e50bb'\n",
      "'Bot cheksum: db89ede4-dee5-44bb-8e4d-2c42aa9db231'\n"
     ]
    }
   ],
   "source": [
    "# get checksums for resource updated\n",
    "response = bot.get_intent(\n",
    "    name=intent_name,\n",
    "    version='$LATEST')\n",
    "pprint ('Intent cheksum: %s' %response['checksum'])\n",
    "response = bot.get_bot(\n",
    "    name=bot_name,\n",
    "    versionOrAlias='$LATEST')\n",
    "pprint ('Bot cheksum: %s' %response['checksum'])"
   ]
  },
  {
   "cell_type": "code",
   "execution_count": 19,
   "metadata": {},
   "outputs": [
    {
     "ename": "ConflictException",
     "evalue": "An error occurred (ConflictException) when calling the DeleteBot operation: There is a conflicting operation in progress for the resource named 'CoffeeBot'.",
     "output_type": "error",
     "traceback": [
      "\u001b[0;31m---------------------------------------------------------------------------\u001b[0m",
      "\u001b[0;31mConflictException\u001b[0m                         Traceback (most recent call last)",
      "\u001b[0;32m<ipython-input-19-242640423027>\u001b[0m in \u001b[0;36m<module>\u001b[0;34m()\u001b[0m\n\u001b[1;32m     28\u001b[0m             \u001b[0mpprint\u001b[0m \u001b[0;34m(\u001b[0m\u001b[0mresponse\u001b[0m\u001b[0;34m)\u001b[0m\u001b[0;34m\u001b[0m\u001b[0m\n\u001b[1;32m     29\u001b[0m \u001b[0;34m\u001b[0m\u001b[0m\n\u001b[0;32m---> 30\u001b[0;31m \u001b[0mdelete_bot\u001b[0m\u001b[0;34m(\u001b[0m\u001b[0;34m)\u001b[0m\u001b[0;34m\u001b[0m\u001b[0m\n\u001b[0m",
      "\u001b[0;32m<ipython-input-19-242640423027>\u001b[0m in \u001b[0;36mdelete_bot\u001b[0;34m()\u001b[0m\n\u001b[1;32m      3\u001b[0m \u001b[0;32mdef\u001b[0m \u001b[0mdelete_bot\u001b[0m\u001b[0;34m(\u001b[0m\u001b[0;34m)\u001b[0m\u001b[0;34m:\u001b[0m\u001b[0;34m\u001b[0m\u001b[0m\n\u001b[1;32m      4\u001b[0m     response = bot.delete_bot(\n\u001b[0;32m----> 5\u001b[0;31m         name=bot_name)\n\u001b[0m\u001b[1;32m      6\u001b[0m     \u001b[0;32mif\u001b[0m \u001b[0mresponse\u001b[0m\u001b[0;34m[\u001b[0m\u001b[0;34m'ResponseMetadata'\u001b[0m\u001b[0;34m]\u001b[0m\u001b[0;34m[\u001b[0m\u001b[0;34m'HTTPStatusCode'\u001b[0m\u001b[0;34m]\u001b[0m \u001b[0;34m==\u001b[0m\u001b[0;36m204\u001b[0m\u001b[0;34m:\u001b[0m\u001b[0;34m\u001b[0m\u001b[0m\n\u001b[1;32m      7\u001b[0m         \u001b[0mprint\u001b[0m \u001b[0;34m(\u001b[0m\u001b[0;34m\"%s deleted\"\u001b[0m \u001b[0;34m%\u001b[0m\u001b[0mbot_name\u001b[0m\u001b[0;34m)\u001b[0m\u001b[0;34m\u001b[0m\u001b[0m\n",
      "\u001b[0;32m/Users/shirkeys/miniconda3/lib/python3.6/site-packages/botocore/client.py\u001b[0m in \u001b[0;36m_api_call\u001b[0;34m(self, *args, **kwargs)\u001b[0m\n\u001b[1;32m    322\u001b[0m                     \"%s() only accepts keyword arguments.\" % py_operation_name)\n\u001b[1;32m    323\u001b[0m             \u001b[0;31m# The \"self\" in this scope is referring to the BaseClient.\u001b[0m\u001b[0;34m\u001b[0m\u001b[0;34m\u001b[0m\u001b[0m\n\u001b[0;32m--> 324\u001b[0;31m             \u001b[0;32mreturn\u001b[0m \u001b[0mself\u001b[0m\u001b[0;34m.\u001b[0m\u001b[0m_make_api_call\u001b[0m\u001b[0;34m(\u001b[0m\u001b[0moperation_name\u001b[0m\u001b[0;34m,\u001b[0m \u001b[0mkwargs\u001b[0m\u001b[0;34m)\u001b[0m\u001b[0;34m\u001b[0m\u001b[0m\n\u001b[0m\u001b[1;32m    325\u001b[0m \u001b[0;34m\u001b[0m\u001b[0m\n\u001b[1;32m    326\u001b[0m         \u001b[0m_api_call\u001b[0m\u001b[0;34m.\u001b[0m\u001b[0m__name__\u001b[0m \u001b[0;34m=\u001b[0m \u001b[0mstr\u001b[0m\u001b[0;34m(\u001b[0m\u001b[0mpy_operation_name\u001b[0m\u001b[0;34m)\u001b[0m\u001b[0;34m\u001b[0m\u001b[0m\n",
      "\u001b[0;32m/Users/shirkeys/miniconda3/lib/python3.6/site-packages/botocore/client.py\u001b[0m in \u001b[0;36m_make_api_call\u001b[0;34m(self, operation_name, api_params)\u001b[0m\n\u001b[1;32m    620\u001b[0m             \u001b[0merror_code\u001b[0m \u001b[0;34m=\u001b[0m \u001b[0mparsed_response\u001b[0m\u001b[0;34m.\u001b[0m\u001b[0mget\u001b[0m\u001b[0;34m(\u001b[0m\u001b[0;34m\"Error\"\u001b[0m\u001b[0;34m,\u001b[0m \u001b[0;34m{\u001b[0m\u001b[0;34m}\u001b[0m\u001b[0;34m)\u001b[0m\u001b[0;34m.\u001b[0m\u001b[0mget\u001b[0m\u001b[0;34m(\u001b[0m\u001b[0;34m\"Code\"\u001b[0m\u001b[0;34m)\u001b[0m\u001b[0;34m\u001b[0m\u001b[0m\n\u001b[1;32m    621\u001b[0m             \u001b[0merror_class\u001b[0m \u001b[0;34m=\u001b[0m \u001b[0mself\u001b[0m\u001b[0;34m.\u001b[0m\u001b[0mexceptions\u001b[0m\u001b[0;34m.\u001b[0m\u001b[0mfrom_code\u001b[0m\u001b[0;34m(\u001b[0m\u001b[0merror_code\u001b[0m\u001b[0;34m)\u001b[0m\u001b[0;34m\u001b[0m\u001b[0m\n\u001b[0;32m--> 622\u001b[0;31m             \u001b[0;32mraise\u001b[0m \u001b[0merror_class\u001b[0m\u001b[0;34m(\u001b[0m\u001b[0mparsed_response\u001b[0m\u001b[0;34m,\u001b[0m \u001b[0moperation_name\u001b[0m\u001b[0;34m)\u001b[0m\u001b[0;34m\u001b[0m\u001b[0m\n\u001b[0m\u001b[1;32m    623\u001b[0m         \u001b[0;32melse\u001b[0m\u001b[0;34m:\u001b[0m\u001b[0;34m\u001b[0m\u001b[0m\n\u001b[1;32m    624\u001b[0m             \u001b[0;32mreturn\u001b[0m \u001b[0mparsed_response\u001b[0m\u001b[0;34m\u001b[0m\u001b[0m\n",
      "\u001b[0;31mConflictException\u001b[0m: An error occurred (ConflictException) when calling the DeleteBot operation: There is a conflicting operation in progress for the resource named 'CoffeeBot'."
     ]
    }
   ],
   "source": [
    "# delete resources\n",
    "\n",
    "def delete_bot():\n",
    "    response = bot.delete_bot(\n",
    "        name=bot_name)\n",
    "    if response['ResponseMetadata']['HTTPStatusCode'] ==204:\n",
    "        print (\"%s deleted\" %bot_name)\n",
    "    else:\n",
    "        pprint (response)\n",
    "\n",
    "    time.sleep(3) \n",
    "\n",
    "    response = bot.delete_intent(\n",
    "        name=intent_name)\n",
    "    if response['ResponseMetadata']['HTTPStatusCode'] ==204:\n",
    "        print (\"%s intent deleted\" %intent_name)\n",
    "    else:\n",
    "        pprint (response)\n",
    "\n",
    "    for type_name in slot_types:\n",
    "        time.sleep(3) \n",
    "        response = bot.delete_slot_type(\n",
    "            name=type_name\n",
    "            )\n",
    "        if response['ResponseMetadata']['HTTPStatusCode'] ==204:\n",
    "            print (\"%s slot type deleted\" %type_name)\n",
    "        else:\n",
    "            pprint (response)\n",
    "            \n",
    "delete_bot()            "
   ]
  },
  {
   "cell_type": "code",
   "execution_count": null,
   "metadata": {
    "collapsed": true
   },
   "outputs": [],
   "source": []
  }
 ],
 "metadata": {
  "kernelspec": {
   "display_name": "Python 3",
   "language": "python",
   "name": "python3"
  },
  "language_info": {
   "codemirror_mode": {
    "name": "ipython",
    "version": 3
   },
   "file_extension": ".py",
   "mimetype": "text/x-python",
   "name": "python",
   "nbconvert_exporter": "python",
   "pygments_lexer": "ipython3",
   "version": "3.6.0"
  }
 },
 "nbformat": 4,
 "nbformat_minor": 2
}
