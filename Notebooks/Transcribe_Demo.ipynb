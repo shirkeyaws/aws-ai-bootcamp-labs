{
 "cells": [
  {
   "cell_type": "code",
   "execution_count": null,
   "metadata": {
    "collapsed": true
   },
   "outputs": [],
   "source": [
    "import boto3\n",
    "import IPython\n",
    "from pprint import pprint\n",
    "import time\n",
    "import urllib.request as request\n",
    "from IPython.display import display, Markdown\n",
    "import random\n",
    "\n",
    "client = boto3.client('transcribe', region_name='us-east-1')"
   ]
  },
  {
   "cell_type": "code",
   "execution_count": null,
   "metadata": {},
   "outputs": [],
   "source": [
    "help(client)"
   ]
  },
  {
   "cell_type": "code",
   "execution_count": null,
   "metadata": {},
   "outputs": [],
   "source": [
    "s3_uri='https://s3.amazonaws.com/shirkeys-sf-loft-2018/build_intelligent_applications_with_AWS_ML_Services/build_on.mp3'\n",
    "\n",
    "IPython.display.Audio('https://s3.amazonaws.com/shirkeys-sf-loft-2018/build_intelligent_applications_with_AWS_ML_Services/build_on.mp3'\n",
    ")"
   ]
  },
  {
   "cell_type": "code",
   "execution_count": null,
   "metadata": {
    "collapsed": true
   },
   "outputs": [],
   "source": [
    "?client.start_transcription_job()"
   ]
  },
  {
   "cell_type": "code",
   "execution_count": null,
   "metadata": {},
   "outputs": [],
   "source": [
    "hash = random.getrandbits(32)\n",
    "job_name='test_transcription_{:8x}'.format(hash)\n",
    "print('Job name: {}'.format(job_name))"
   ]
  },
  {
   "cell_type": "code",
   "execution_count": null,
   "metadata": {
    "collapsed": true
   },
   "outputs": [],
   "source": [
    "response = client.start_transcription_job(\n",
    "    TranscriptionJobName=job_name,\n",
    "    LanguageCode='en-US',\n",
    "    MediaSampleRateHertz=48000,\n",
    "    MediaFormat='mp3',\n",
    "    Media={\n",
    "        'MediaFileUri': s3_uri\n",
    "    }\n",
    ")"
   ]
  },
  {
   "cell_type": "code",
   "execution_count": null,
   "metadata": {},
   "outputs": [],
   "source": [
    "pprint(response)"
   ]
  },
  {
   "cell_type": "code",
   "execution_count": null,
   "metadata": {},
   "outputs": [],
   "source": [
    "while True:\n",
    "    status = client.get_transcription_job(TranscriptionJobName=job_name)\n",
    "    if status['TranscriptionJob']['TranscriptionJobStatus'] in ['COMPLETED', 'FAILED']:\n",
    "        break\n",
    "    print(\"Waiting...\",end='\\r')\n",
    "    time.sleep(5)\n",
    "    \n",
    "pprint(status)\n"
   ]
  },
  {
   "cell_type": "code",
   "execution_count": null,
   "metadata": {},
   "outputs": [],
   "source": [
    "url = status['TranscriptionJob']['Transcript']['TranscriptFileUri']\n",
    "pprint(url)\n",
    "request.urlretrieve(url,'transcript.txt')"
   ]
  },
  {
   "cell_type": "code",
   "execution_count": null,
   "metadata": {},
   "outputs": [],
   "source": [
    "!cat transcript.txt"
   ]
  },
  {
   "cell_type": "code",
   "execution_count": null,
   "metadata": {},
   "outputs": [],
   "source": [
    "import json\n",
    "\n",
    "result = json.load(open('transcript.txt'))\n",
    "pprint(result)"
   ]
  },
  {
   "cell_type": "code",
   "execution_count": null,
   "metadata": {},
   "outputs": [],
   "source": [
    "transcript = result['results']['transcripts'][0]['transcript']\n",
    "display(Markdown('### {}'.format(transcript)))"
   ]
  },
  {
   "cell_type": "code",
   "execution_count": null,
   "metadata": {
    "collapsed": true
   },
   "outputs": [],
   "source": []
  }
 ],
 "metadata": {
  "kernelspec": {
   "display_name": "Python 3",
   "language": "python",
   "name": "python3"
  },
  "language_info": {
   "codemirror_mode": {
    "name": "ipython",
    "version": 3
   },
   "file_extension": ".py",
   "mimetype": "text/x-python",
   "name": "python",
   "nbconvert_exporter": "python",
   "pygments_lexer": "ipython3",
   "version": "3.6.0"
  }
 },
 "nbformat": 4,
 "nbformat_minor": 2
}
