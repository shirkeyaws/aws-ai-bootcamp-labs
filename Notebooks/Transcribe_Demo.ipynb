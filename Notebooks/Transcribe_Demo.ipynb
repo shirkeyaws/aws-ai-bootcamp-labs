{
 "cells": [
  {
   "cell_type": "code",
   "execution_count": null,
   "metadata": {
    "collapsed": true
   },
   "outputs": [],
   "source": [
    "import boto3\n",
    "import json\n",
    "import IPython\n",
    "from pprint import pprint\n",
    "import time\n",
    "import urllib.request as request\n",
    "from IPython.display import HTML, Audio, display, Markdown\n",
    "import random\n",
    "\n",
    "def generate_job_name():\n",
    "    hash = random.getrandbits(32)\n",
    "    return 'test_transcription_{:6x}'.format(hash)    \n",
    "\n",
    "client = boto3.client('transcribe', region_name='us-east-1')"
   ]
  },
  {
   "cell_type": "code",
   "execution_count": null,
   "metadata": {
    "collapsed": true
   },
   "outputs": [],
   "source": [
    "?client.start_transcription_job()"
   ]
  },
  {
   "cell_type": "code",
   "execution_count": null,
   "metadata": {},
   "outputs": [],
   "source": [
    "s3_uri='https://s3.amazonaws.com/shirkeys-aws-summit-us-east-1/my_voice_is_my_passport.mp3'\n",
    "Audio(s3_uri)"
   ]
  },
  {
   "cell_type": "code",
   "execution_count": null,
   "metadata": {},
   "outputs": [],
   "source": [
    "job_name=generate_job_name()\n",
    "response = client.start_transcription_job(\n",
    "    TranscriptionJobName=job_name,\n",
    "    LanguageCode='en-US',\n",
    "    MediaFormat='mp3',\n",
    "    Media={\n",
    "        'MediaFileUri': s3_uri\n",
    "    }\n",
    ")\n",
    "pprint(response)"
   ]
  },
  {
   "cell_type": "code",
   "execution_count": null,
   "metadata": {},
   "outputs": [],
   "source": [
    "job_name=generate_job_name()\n",
    "response = client.start_transcription_job(\n",
    "    TranscriptionJobName=job_name,\n",
    "    LanguageCode='en-US',\n",
    "    MediaFormat='mp3',\n",
    "    Media={\n",
    "        'MediaFileUri': s3_uri\n",
    "    }\n",
    ")\n",
    "pprint(response)"
   ]
  },
  {
   "cell_type": "code",
   "execution_count": null,
   "metadata": {},
   "outputs": [],
   "source": [
    "while True:\n",
    "    status = client.get_transcription_job(TranscriptionJobName=job_name)\n",
    "    if status['TranscriptionJob']['TranscriptionJobStatus'] in ['COMPLETED', 'FAILED']:\n",
    "        break\n",
    "    print(\"Waiting...\",end='\\r')\n",
    "    time.sleep(5)\n",
    "pprint(status)"
   ]
  },
  {
   "cell_type": "code",
   "execution_count": null,
   "metadata": {},
   "outputs": [],
   "source": [
    "url = status['TranscriptionJob']['Transcript']['TranscriptFileUri']\n",
    "pprint(url)\n",
    "transcript='transcript_{}.txt'.format(job_name)\n",
    "request.urlretrieve(url,transcript)"
   ]
  },
  {
   "cell_type": "code",
   "execution_count": null,
   "metadata": {},
   "outputs": [],
   "source": [
    "result = json.load(open(transcript))\n",
    "pprint(result)"
   ]
  },
  {
   "cell_type": "code",
   "execution_count": null,
   "metadata": {},
   "outputs": [],
   "source": [
    "transcript_text = result['results']['transcripts'][0]['transcript']\n",
    "display(Markdown('### {}'.format(transcript_text)))"
   ]
  },
  {
   "cell_type": "code",
   "execution_count": null,
   "metadata": {
    "collapsed": true
   },
   "outputs": [],
   "source": [
    "s3_video_uri='https://s3.amazonaws.com/shirkeys-sf-loft-2018/build_intelligent_applications_with_AWS_ML_Services/aws_what_excites.mp4'\n",
    "s3_uri='https://s3.amazonaws.com/shirkeys-sf-loft-2018/build_intelligent_applications_with_AWS_ML_Services/aws_what_excites.mp3'\n",
    "\n",
    "HTML('<video controls width=\"640\" height=\"480\" src=\"{}\" />'.format(s3_video_uri))"
   ]
  },
  {
   "cell_type": "code",
   "execution_count": null,
   "metadata": {
    "collapsed": true
   },
   "outputs": [],
   "source": [
    "Audio(s3_uri)"
   ]
  },
  {
   "cell_type": "code",
   "execution_count": null,
   "metadata": {},
   "outputs": [],
   "source": [
    "job_name=generate_job_name()\n",
    "response = client.start_transcription_job(\n",
    "    TranscriptionJobName=job_name,\n",
    "    LanguageCode='en-US',\n",
    "    MediaFormat='mp3',\n",
    "    Media={\n",
    "        'MediaFileUri': s3_uri\n",
    "    }\n",
    ")\n",
    "pprint(response)"
   ]
  },
  {
   "cell_type": "code",
   "execution_count": null,
   "metadata": {},
   "outputs": [],
   "source": [
    "while True:\n",
    "    status = client.get_transcription_job(TranscriptionJobName=job_name)\n",
    "    if status['TranscriptionJob']['TranscriptionJobStatus'] in ['COMPLETED', 'FAILED']:\n",
    "        break\n",
    "    print(\"Waiting...\",end='\\r')\n",
    "    time.sleep(5)\n",
    "pprint(status)\n",
    "url = status['TranscriptionJob']['Transcript']['TranscriptFileUri']\n",
    "transcript='transcript_{}.txt'.format(job_name)\n",
    "request.urlretrieve(url,transcript)\n",
    "result = json.load(open(transcript))\n",
    "transcript_text = result['results']['transcripts'][0]['transcript']\n",
    "display(Markdown('### {}'.format(transcript_text)))"
   ]
  }
 ],
 "metadata": {
  "kernelspec": {
   "display_name": "Python 3",
   "language": "python",
   "name": "python3"
  },
  "language_info": {
   "codemirror_mode": {
    "name": "ipython",
    "version": 3
   },
   "file_extension": ".py",
   "mimetype": "text/x-python",
   "name": "python",
   "nbconvert_exporter": "python",
   "pygments_lexer": "ipython3",
   "version": "3.6.0"
  }
 },
 "nbformat": 4,
 "nbformat_minor": 2
}
